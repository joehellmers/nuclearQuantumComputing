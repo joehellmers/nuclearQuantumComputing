{
 "cells": [
  {
   "cell_type": "markdown",
   "id": "4c4e2dc1",
   "metadata": {},
   "source": [
    "This notebook is used as a starting point for the running the circuits required to replicate https://journals.aps.org/prc/pdf/10.1103/PhysRevC.104.024305 on AWS Braket.\n",
    "<br><br>\n",
    "More specifically here we are trying to duplicate the state preparation (set FIG. 1 and EQN 9)."
   ]
  },
  {
   "cell_type": "code",
   "execution_count": 52,
   "id": "1def7ec5",
   "metadata": {},
   "outputs": [],
   "source": [
    "# AWS imports: Import Braket SDK modules\n",
    "from braket.circuits import Circuit, circuit\n",
    "from braket.devices import LocalSimulator\n",
    "\n",
    "# Other required imports\n",
    "import math\n",
    "import numpy as np\n",
    "import matplotlib.pyplot as plt\n",
    "%matplotlib inline"
   ]
  },
  {
   "cell_type": "code",
   "execution_count": 16,
   "id": "583baacd",
   "metadata": {},
   "outputs": [
    {
     "name": "stdout",
     "output_type": "stream",
     "text": [
      "Name: amazon-braket-sdk\r\n",
      "Version: 1.19.1.dev0\r\n",
      "Summary: An open source library for interacting with quantum computing devices on Amazon Braket\r\n",
      "Home-page: https://github.com/aws/amazon-braket-sdk-python\r\n",
      "Author: Amazon Web Services\r\n",
      "Author-email: \r\n",
      "License: Apache License 2.0\r\n",
      "Location: /home/ec2-user/anaconda3/envs/Braket/lib/python3.7/site-packages\r\n",
      "Requires: boltons, coverage, amazon-braket-default-simulator, numpy, boto3, networkx, nest-asyncio, sympy, backoff\r\n",
      "Required-by: amazon-braket-pennylane-plugin, amazon-braket-ocean-plugin\r\n"
     ]
    }
   ],
   "source": [
    "# Check AWS Braket SDK version\n",
    "!pip show amazon-braket-sdk"
   ]
  },
  {
   "cell_type": "code",
   "execution_count": 30,
   "id": "dea639a7",
   "metadata": {},
   "outputs": [],
   "source": [
    "def statePrep2Qubit(theta):\n",
    "    \n",
    "    phi = theta - math.pi/2\n",
    "    \n",
    "    num_qubits = 2\n",
    "    qubits=range(num_qubits)\n",
    "    \n",
    "    prepCirc = Circuit()\n",
    "    prepCirc.ry(0, 2*phi)\n",
    "    prepCirc.cnot(0,1)\n",
    "    \n",
    "    return prepCirc"
   ]
  },
  {
   "cell_type": "code",
   "execution_count": 69,
   "id": "a1690dfe",
   "metadata": {},
   "outputs": [],
   "source": [
    "def statePrep3Qubit(theta):\n",
    "    \n",
    "    alpha = 2*np.arccos(-math.sqrt(2/3)*np.sin(theta))\n",
    "    beta = -(math.pi/4) - np.arctan(np.tan(theta)/math.sqrt(3))\n",
    "    print(f\"alpha: {alpha}\")\n",
    "    print(f\"beta: {beta}\")\n",
    "    num_qubits = 3\n",
    "    qubits=range(num_qubits)\n",
    "    \n",
    "    prepCirc = Circuit()\n",
    "    prepCirc.ry(0, alpha)\n",
    "    prepCirc.ry(1, math.pi/2 - beta)\n",
    "    prepCirc.ry(2, math.pi)\n",
    "    prepCirc.cnot(0,1)\n",
    "    prepCirc.ry(1, beta)\n",
    "    prepCirc.cnot(1,2)\n",
    "    prepCirc.cnot(0,1)\n",
    "    \n",
    "    return prepCirc"
   ]
  },
  {
   "cell_type": "code",
   "execution_count": 71,
   "id": "00033f20",
   "metadata": {},
   "outputs": [
    {
     "name": "stdout",
     "output_type": "stream",
     "text": [
      "alpha: 3.946004782704522\n",
      "beta: -1.0909300147640708\n"
     ]
    }
   ],
   "source": [
    "prepCirc = statePrep3Qubit(0.5)"
   ]
  },
  {
   "cell_type": "code",
   "execution_count": 72,
   "id": "7065476a",
   "metadata": {},
   "outputs": [
    {
     "name": "stdout",
     "output_type": "stream",
     "text": [
      "T  : |   0    |1|    2    |3|4|\n",
      "                               \n",
      "q0 : -Ry(3.95)-C-------------C-\n",
      "               |             | \n",
      "q1 : -Ry(2.66)-X-Ry(-1.09)-C-X-\n",
      "                           |   \n",
      "q2 : -Ry(3.14)-------------X---\n",
      "\n",
      "T  : |   0    |1|    2    |3|4|\n"
     ]
    }
   ],
   "source": [
    "print(prepCirc)"
   ]
  },
  {
   "cell_type": "code",
   "execution_count": 73,
   "id": "682f479a",
   "metadata": {},
   "outputs": [
    {
     "name": "stdout",
     "output_type": "stream",
     "text": [
      "State Vector:\n",
      "[ 0.29552021+0.j  0.        +0.j  0.        +0.j -0.95533649+0.j]\n",
      "State Probabilities:\n",
      "[0.08733219 0.         0.         0.91266781]\n"
     ]
    }
   ],
   "source": [
    "theta = 0.3\n",
    "prepCirc = statePrep2Qubit(theta)\n",
    "# Specify the desired simulation characteristics\n",
    "prepCirc.state_vector()\n",
    "prepCirc.probability()\n",
    "device = LocalSimulator()\n",
    "task = device.run(prepCirc, shots=0)\n",
    "result = task.result()\n",
    "state_vector = result.values[0]\n",
    "probs_values = result.values[1]\n",
    "print(\"State Vector:\")\n",
    "print(state_vector)\n",
    "print(\"State Probabilities:\")\n",
    "print(probs_values)"
   ]
  },
  {
   "cell_type": "code",
   "execution_count": 74,
   "id": "2496295d",
   "metadata": {},
   "outputs": [
    {
     "name": "stdout",
     "output_type": "stream",
     "text": [
      "Theta: 0.3\n",
      "Exact statevector:\n",
      " [(0.296+0j), 0, 0, (-0.955+0j)]\n"
     ]
    },
    {
     "data": {
      "image/png": "[encoded data removed]",
      "text/plain": [
       "<Figure size 432x288 with 1 Axes>"
      ]
     },
     "metadata": {
      "needs_background": "light"
     },
     "output_type": "display_data"
    }
   ],
   "source": [
    "# format statevector for output\n",
    "state_vec_pretty = np.round(state_vector, decimals=3)\n",
    "state_vec_pretty = [ampl if np.abs(ampl)>10**(-5) else 0 for ampl in state_vec_pretty]\n",
    "\n",
    "# bitstrings\n",
    "format_bitstring = '{0:0' + str(2) + 'b}'\n",
    "bitstring_keys = [format_bitstring.format(ii) for ii in range(2**2)]\n",
    "\n",
    "# Print the output state vector\n",
    "print(f'Theta: {theta}')\n",
    "print('Exact statevector:\\n', state_vec_pretty)\n",
    "\n",
    "# plot probabalities\n",
    "plt.bar(bitstring_keys, probs_values);\n",
    "plt.xlabel('bitstrings');\n",
    "plt.ylabel('probability');"
   ]
  },
  {
   "cell_type": "code",
   "execution_count": 75,
   "id": "e813bc4a",
   "metadata": {},
   "outputs": [
    {
     "name": "stdout",
     "output_type": "stream",
     "text": [
      "alpha: 3.6289850214222397\n",
      "beta: -0.9621302180290598\n",
      "State Vector:\n",
      "[-1.04473805e-17+0.j -1.70618671e-01+0.j -1.70618671e-01+0.j\n",
      " -1.04473805e-17+0.j -1.70618671e-01+0.j -1.04473805e-17+0.j\n",
      "  5.84974887e-17+0.j  9.55336489e-01+0.j]\n",
      "State Probabilities:\n",
      "[1.09147758e-34 2.91107308e-02 2.91107308e-02 1.09147758e-34\n",
      " 2.91107308e-02 1.09147758e-34 3.42195618e-33 9.12667807e-01]\n"
     ]
    }
   ],
   "source": [
    "theta = 0.3\n",
    "prepCirc = statePrep3Qubit(theta)\n",
    "# Specify the desired simulation characteristics\n",
    "prepCirc.state_vector()\n",
    "prepCirc.probability()\n",
    "device = LocalSimulator()\n",
    "task = device.run(prepCirc, shots=0)\n",
    "result = task.result()\n",
    "state_vector = result.values[0]\n",
    "probs_values = result.values[1]\n",
    "print(\"State Vector:\")\n",
    "print(state_vector)\n",
    "print(\"State Probabilities:\")\n",
    "print(probs_values)"
   ]
  },
  {
   "cell_type": "code",
   "execution_count": 76,
   "id": "b7fea7b0",
   "metadata": {},
   "outputs": [
    {
     "name": "stdout",
     "output_type": "stream",
     "text": [
      "Theta: 0.3\n",
      "Exact statevector:\n",
      " [0, (-0.171+0j), (-0.171+0j), 0, (-0.171+0j), 0, 0, (0.955+0j)]\n"
     ]
    },
    {
     "data": {
      "image/png": "[encoded data removed]",
      "text/plain": [
       "<Figure size 432x288 with 1 Axes>"
      ]
     },
     "metadata": {
      "needs_background": "light"
     },
     "output_type": "display_data"
    }
   ],
   "source": [
    "# format statevector for output\n",
    "state_vec_pretty = np.round(state_vector, decimals=3)\n",
    "state_vec_pretty = [ampl if np.abs(ampl)>10**(-5) else 0 for ampl in state_vec_pretty]\n",
    "\n",
    "# bitstrings\n",
    "format_bitstring = '{0:0' + str(3) + 'b}'\n",
    "bitstring_keys = [format_bitstring.format(ii) for ii in range(2**3)]\n",
    "\n",
    "# Print the output state vector\n",
    "print(f'Theta: {theta}')\n",
    "print('Exact statevector:\\n', state_vec_pretty)\n",
    "\n",
    "# plot probabalities\n",
    "plt.bar(bitstring_keys, probs_values);\n",
    "plt.xlabel('bitstrings');\n",
    "plt.ylabel('probability');"
   ]
  },
  {
   "cell_type": "code",
   "execution_count": null,
   "id": "8e235ca1",
   "metadata": {},
   "outputs": [],
   "source": []
  }
 ],
 "metadata": {
  "kernelspec": {
   "display_name": "conda_braket",
   "language": "python",
   "name": "conda_braket"
  },
  "language_info": {
   "codemirror_mode": {
    "name": "ipython",
    "version": 3
   },
   "file_extension": ".py",
   "mimetype": "text/x-python",
   "name": "python",
   "nbconvert_exporter": "python",
   "pygments_lexer": "ipython3",
   "version": "3.7.13"
  }
 },
 "nbformat": 4,
 "nbformat_minor": 5
}
